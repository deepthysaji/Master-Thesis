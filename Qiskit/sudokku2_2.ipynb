{
 "cells": [
  {
   "cell_type": "code",
   "execution_count": 1,
   "metadata": {},
   "outputs": [],
   "source": [
    "from qiskit import QuantumCircuit,QuantumRegister,ClassicalRegister\n",
    "from qiskit.visualization import plot_histogram\n",
    "from qiskit_ibm_runtime import QiskitRuntimeService\n",
    "import matplotlib.pyplot as plt\n",
    "from qiskit.transpiler.preset_passmanagers import generate_preset_pass_manager\n",
    "from qiskit import transpile\n",
    "import numpy as np\n",
    "from qiskit.quantum_info import Statevector\n",
    "from qiskit.circuit.library import QFT\n",
    "import qiskit\n",
    "import math"
   ]
  },
  {
   "cell_type": "code",
   "execution_count": 2,
   "metadata": {},
   "outputs": [],
   "source": [
    "clause_list = [[0,1],\n",
    "               [0,2],\n",
    "               [1,3],\n",
    "               [2,3]]"
   ]
  },
  {
   "cell_type": "code",
   "execution_count": 3,
   "metadata": {},
   "outputs": [],
   "source": [
    "def XOR(qc,a,b,output):\n",
    "    qc.cx(a,output)\n",
    "    qc.cx(b,output)"
   ]
  },
  {
   "cell_type": "code",
   "execution_count": 4,
   "metadata": {},
   "outputs": [],
   "source": [
    "def sudoku_oracle(qc, clause_list, var_qubits, clause_qubits,output_qubit):\n",
    "    # does above operations for all the pairs. final state is 1 iff it is a solution\n",
    "    i = 0\n",
    "    for clause in clause_list:\n",
    "        XOR(qc, clause[0], clause[1], clause_qubits[i])\n",
    "        i += 1\n",
    "\n",
    "    # Flip 'output' bit if all clauses are satisfied\n",
    "    # Create a MultiControlledX gate\n",
    "    mcx_gate = qc.mcx(clause_qubits,output_qubit)\n",
    "\n",
    "    # Append the gate to the circuit\n",
    "    # qc.append(mcx_gate, clause_qubits[:] + [output_qubit])\n",
    "\n",
    "    # Uncompute clauses to reset clause-checking bits to 0\n",
    "    i = 0\n",
    "    for clause in clause_list:\n",
    "        XOR(qc, clause[0], clause[1], clause_qubits[i])\n",
    "        i += 1\n"
   ]
  },
  {
   "cell_type": "code",
   "execution_count": 5,
   "metadata": {},
   "outputs": [],
   "source": [
    "def diffuser(nqubits):\n",
    "    qc = QuantumCircuit(nqubits)\n",
    "    \n",
    "    # Apply transformation |s> -> |00..0> (H-gates)\n",
    "    for qubit in range(nqubits):\n",
    "        qc.h(qubit)\n",
    "    \n",
    "    # Apply transformation |00..0> -> |11..1> (X-gates)\n",
    "    for qubit in range(nqubits):\n",
    "        qc.x(qubit)\n",
    "    \n",
    "    # Do multi-controlled-Z gate\n",
    "    qc.h(nqubits - 1)\n",
    "    qc.mcx(list(range(nqubits - 1)), nqubits - 1)  # multi-controlled-Toffoli\n",
    "    qc.h(nqubits - 1)\n",
    "    \n",
    "    # Apply transformation |11..1> -> |00..0> (X-gates)\n",
    "    for qubit in range(nqubits):\n",
    "        qc.x(qubit)\n",
    "    \n",
    "    # Apply transformation |00..0> -> |s>\n",
    "    for qubit in range(nqubits):\n",
    "        qc.h(qubit)\n",
    "    \n",
    "    # We will return the diffuser as a gate\n",
    "    U_s = qc.to_gate()\n",
    "    U_s.name = \"$U$\"\n",
    "    return U_s\n"
   ]
  },
  {
   "cell_type": "code",
   "execution_count": null,
   "metadata": {},
   "outputs": [],
   "source": []
  },
  {
   "cell_type": "markdown",
   "metadata": {},
   "source": [
    "Implementation of Quantum phase estimation"
   ]
  },
  {
   "cell_type": "code",
   "execution_count": 6,
   "metadata": {},
   "outputs": [],
   "source": [
    "def grover_operator(clause_list, var_qubits, clause_qubits, output_qubit):\n",
    "    # Create Grover operator as a gate\n",
    "    qc = QuantumCircuit(var_qubits, clause_qubits, output_qubit)\n",
    "    \n",
    "    # Oracle\n",
    "    sudoku_oracle(qc, clause_list, var_qubits, clause_qubits, output_qubit)\n",
    "    \n",
    "    # Diffuser (only on var_qubits)\n",
    "    diff = diffuser(len(var_qubits))\n",
    "    qc.append(diff, var_qubits[:])\n",
    "    \n",
    "    # Convert to gate\n",
    "    grover_gate = qc.to_gate()\n",
    "    grover_gate.name = \"Grover\"\n",
    "    return grover_gate\n",
    "\n",
    "def qpe_with_grover(clause_list, precision_qubits):\n",
    "    # Create registers\n",
    "    t = precision_qubits  # number of precision qubits\n",
    "    var_qubits = QuantumRegister(4, name='v')\n",
    "    clause_qubits = QuantumRegister(4, name='c')\n",
    "    output_qubit = QuantumRegister(1, name='out')\n",
    "    phase_qubits = QuantumRegister(t, 'phase')\n",
    "    cbits = ClassicalRegister(t, 'cbits')\n",
    "    \n",
    "    # Create circuit\n",
    "    qc = QuantumCircuit(phase_qubits, var_qubits, clause_qubits, output_qubit, cbits)\n",
    "    \n",
    "    # Initialize var_qubits in superposition\n",
    "    for qubit in var_qubits:\n",
    "        qc.h(qubit)\n",
    "    \n",
    "    # Initialize phase estimation qubits\n",
    "    for qubit in phase_qubits:\n",
    "        qc.h(qubit)\n",
    "    for qubit in output_qubit:\n",
    "        qc.x(qubit)\n",
    "        qc.h(qubit)\n",
    "    # Create Grover operator\n",
    "    grover = grover_operator(clause_list, var_qubits, clause_qubits, output_qubit)\n",
    "    # Controlled Grover operations\n",
    "    for i in range(t-1,-1,-1):\n",
    "        # Apply 2^i controlled Grover operations\n",
    "        # print(i)\n",
    "        index = t-i-1\n",
    "        for j in range(2**index):\n",
    "            c_q = grover.control()\n",
    "            qc.append(c_q, [phase_qubits[i]] + var_qubits[:] + clause_qubits[:] + output_qubit[:])\n",
    "    # print(qc.draw(\"mpl\"))\n",
    "    qc.append(QFT(t).inverse(), phase_qubits)\n",
    "\n",
    "    # Measure phase qubits\n",
    "    qc.barrier()\n",
    "    qc.measure(phase_qubits, cbits)\n",
    "    \n",
    "    return qc"
   ]
  },
  {
   "cell_type": "code",
   "execution_count": 21,
   "metadata": {},
   "outputs": [
    {
     "name": "stdout",
     "output_type": "stream",
     "text": [
      "Precision qubits:  8\n"
     ]
    }
   ],
   "source": [
    "#finding qubits in first register case 2\n",
    "n = 4\n",
    "e = 0.05  #error probability\n",
    "t = math.ceil(n + np.log2(2+1/(2*e)))\n",
    "print(\"Precision qubits: \", t)"
   ]
  },
  {
   "cell_type": "code",
   "execution_count": 22,
   "metadata": {},
   "outputs": [],
   "source": [
    "# Example usage\n",
    "\n",
    "precision_qubits = t  # Number of qubits for phase estimation\n",
    "qc = qpe_with_grover(clause_list, precision_qubits)\n"
   ]
  },
  {
   "cell_type": "code",
   "execution_count": 23,
   "metadata": {},
   "outputs": [
    {
     "name": "stdout",
     "output_type": "stream",
     "text": [
      "{'00010101': 1, '01010111': 1, '10100110': 1, '01111001': 1, '01111111': 2, '10000110': 1, '00011010': 1, '01001111': 22, '10011001': 3, '10110100': 9, '00011110': 1, '01111110': 1, '11000101': 1, '11111011': 1, '11010011': 1, '11100100': 1, '10101100': 1, '01011100': 1, '11101011': 1, '01111100': 2, '00011001': 2, '00101111': 1, '10101001': 1, '01001100': 5, '11011110': 2, '10011111': 2, '01000010': 3, '11001101': 1, '01100110': 2, '01101111': 2, '11100101': 1, '01001110': 3, '01011001': 1, '11100001': 5, '10010010': 2, '11010101': 2, '01100100': 10, '00100011': 22, '10100100': 1, '11000010': 3, '01100001': 2, '00100001': 3, '01011101': 7, '00100010': 2, '10110101': 20, '10111110': 2, '11110011': 1, '11011011': 1, '00100100': 3, '00100110': 1, '10110010': 4, '10100011': 6, '10111100': 12, '00011100': 2, '00000011': 8, '00100101': 1, '01011011': 9, '00000001': 2, '01100111': 5, '00101011': 3, '10011100': 12, '01000111': 9, '10111010': 3, '01100011': 117, '10100010': 6, '00111111': 10, '10100101': 2, '11111101': 8, '10011110': 4, '01101011': 1, '01100101': 1, '10110001': 32, '10011101': 130, '10000011': 14, '01001011': 20, '01011111': 34, '10101101': 12, '11011100': 2, '11011111': 2, '01000011': 104, '10111001': 15, '00011101': 22, '01010100': 1, '10010101': 1, '00011011': 1, '01010011': 15, '11000001': 13, '00011111': 4, '01011110': 2, '10111101': 97, '01000110': 4, '00010100': 1, '01000100': 14, '11011101': 20, '00100111': 1, '10101111': 1, '01100010': 5, '00111110': 2, '10100001': 36, '01111101': 10, '11111110': 1, '10010001': 1, '11111100': 1, '11100011': 15}\n"
     ]
    }
   ],
   "source": [
    "from qiskit_aer import AerSimulator\n",
    "backend = AerSimulator()\n",
    "\n",
    "qc_transpiled = transpile(qc, backend, optimization_level=1)\n",
    "\n",
    "\n",
    "\n",
    "# Execute the transpiled circuit on the real quantum device\n",
    "job = backend.run(qc_transpiled, shots=1024)\n",
    "\n",
    "\n",
    "result = job.result()\n",
    "counts = result.get_counts()\n",
    "print(counts)"
   ]
  },
  {
   "cell_type": "code",
   "execution_count": 24,
   "metadata": {},
   "outputs": [
    {
     "name": "stdout",
     "output_type": "stream",
     "text": [
      "{'00010101': 1, '01010111': 1, '10100110': 1, '01111001': 1, '01111111': 2, '10000110': 1, '00011010': 1, '01001111': 22, '10011001': 3, '10110100': 9, '00011110': 1, '01111110': 1, '11000101': 1, '11111011': 1, '11010011': 1, '11100100': 1, '10101100': 1, '01011100': 1, '11101011': 1, '01111100': 2, '00011001': 2, '00101111': 1, '10101001': 1, '01001100': 5, '11011110': 2, '10011111': 2, '01000010': 3, '11001101': 1, '01100110': 2, '01101111': 2, '11100101': 1, '01001110': 3, '01011001': 1, '11100001': 5, '10010010': 2, '11010101': 2, '01100100': 10, '00100011': 22, '10100100': 1, '11000010': 3, '01100001': 2, '00100001': 3, '01011101': 7, '00100010': 2, '10110101': 20, '10111110': 2, '11110011': 1, '11011011': 1, '00100100': 3, '00100110': 1, '10110010': 4, '10100011': 6, '10111100': 12, '00011100': 2, '00000011': 8, '00100101': 1, '01011011': 9, '00000001': 2, '01100111': 5, '00101011': 3, '10011100': 12, '01000111': 9, '10111010': 3, '01100011': 117, '10100010': 6, '00111111': 10, '10100101': 2, '11111101': 8, '10011110': 4, '01101011': 1, '01100101': 1, '10110001': 32, '10011101': 130, '10000011': 14, '01001011': 20, '01011111': 34, '10101101': 12, '11011100': 2, '11011111': 2, '01000011': 104, '10111001': 15, '00011101': 22, '01010100': 1, '10010101': 1, '00011011': 1, '01010011': 15, '11000001': 13, '00011111': 4, '01011110': 2, '10111101': 97, '01000110': 4, '00010100': 1, '01000100': 14, '11011101': 20, '00100111': 1, '10101111': 1, '01100010': 5, '00111110': 2, '10100001': 36, '01111101': 10, '11111110': 1, '10010001': 1, '11111100': 1, '11100011': 15}\n",
      "phase:  157\n"
     ]
    }
   ],
   "source": [
    "counts1 = result.get_counts(qc)\n",
    "print(counts1)\n",
    "\n",
    "# Gets the most frequent value from counts1, which is the j that QPE returns\n",
    "freq = qiskit.result.Counts.most_frequent(counts1)\n",
    "qpe_result = int(freq,2)\n",
    "qpe_result = int(freq,2)\n",
    "print(\"phase: \",qpe_result) #finding j"
   ]
  },
  {
   "cell_type": "code",
   "execution_count": 16,
   "metadata": {},
   "outputs": [
    {
     "name": "stdout",
     "output_type": "stream",
     "text": [
      "Number of solutions: 2\n"
     ]
    }
   ],
   "source": [
    "# finding the number of solutions\n",
    "#m = 2**4*(math.sin(math.pi*qpe_result/(2**precision_qubits) - math.pi/2))**2\n",
    "\n",
    "m = math.ceil(2**n*(math.sin(math.pi*qpe_result/(2**precision_qubits) - math.pi/2))**2)\n",
    "print(\"Number of solutions:\", m)   "
   ]
  },
  {
   "cell_type": "markdown",
   "metadata": {},
   "source": [
    "Solving sudokku knowing M = 2"
   ]
  },
  {
   "cell_type": "code",
   "execution_count": 17,
   "metadata": {},
   "outputs": [
    {
     "name": "stdout",
     "output_type": "stream",
     "text": [
      "Number of iterations: 2\n"
     ]
    }
   ],
   "source": [
    "# finding the number of iterations as we know the solution\n",
    "N = 2**4\n",
    "M = m\n",
    "k = math.floor(math.pi/4*math.sqrt(N/M))\n",
    "print(\"Number of iterations:\", k)  "
   ]
  },
  {
   "cell_type": "code",
   "execution_count": 18,
   "metadata": {},
   "outputs": [
    {
     "data": {
      "text/html": [
       "<pre style=\"word-wrap: normal;white-space: pre;background: #fff0;line-height: 1.1;font-family: &quot;Courier New&quot;,Courier,monospace\">         ┌───┐      ░                                                        »\n",
       "    v_0: ┤ H ├──────░───■─────────■──────────────────────────────────■───────»\n",
       "         ├───┤      ░   │         │                                  │       »\n",
       "    v_1: ┤ H ├──────░───┼────■────┼─────────■────────────────────────┼────■──»\n",
       "         ├───┤      ░   │    │    │         │                        │    │  »\n",
       "    v_2: ┤ H ├──────░───┼────┼────┼────■────┼─────────■──────────────┼────┼──»\n",
       "         ├───┤      ░   │    │    │    │    │         │              │    │  »\n",
       "    v_3: ┤ H ├──────░───┼────┼────┼────┼────┼────■────┼────■─────────┼────┼──»\n",
       "         └───┘      ░ ┌─┴─┐┌─┴─┐  │    │    │    │    │    │       ┌─┴─┐┌─┴─┐»\n",
       "    c_0: ───────────░─┤ X ├┤ X ├──┼────┼────┼────┼────┼────┼────■──┤ X ├┤ X ├»\n",
       "                    ░ └───┘└───┘┌─┴─┐┌─┴─┐  │    │    │    │    │  └───┘└───┘»\n",
       "    c_1: ───────────░───────────┤ X ├┤ X ├──┼────┼────┼────┼────■────────────»\n",
       "                    ░           └───┘└───┘┌─┴─┐┌─┴─┐  │    │    │            »\n",
       "    c_2: ───────────░─────────────────────┤ X ├┤ X ├──┼────┼────■────────────»\n",
       "                    ░                     └───┘└───┘┌─┴─┐┌─┴─┐  │            »\n",
       "    c_3: ───────────░───────────────────────────────┤ X ├┤ X ├──■────────────»\n",
       "         ┌───┐┌───┐ ░                               └───┘└───┘┌─┴─┐          »\n",
       "    out: ┤ X ├┤ H ├─░─────────────────────────────────────────┤ X ├──────────»\n",
       "         └───┘└───┘ ░                                         └───┘          »\n",
       "cbits: 4/════════════════════════════════════════════════════════════════════»\n",
       "                                                                             »\n",
       "«                                        ░ ┌──────┐                         »\n",
       "«    v_0: ──■────────────────────────────░─┤0     ├──■─────────■────────────»\n",
       "«           │                            ░ │      │  │         │            »\n",
       "«    v_1: ──┼─────────■──────────────────░─┤1     ├──┼────■────┼─────────■──»\n",
       "«           │         │                  ░ │  $U$ │  │    │    │         │  »\n",
       "«    v_2: ──┼────■────┼─────────■────────░─┤2     ├──┼────┼────┼────■────┼──»\n",
       "«           │    │    │         │        ░ │      │  │    │    │    │    │  »\n",
       "«    v_3: ──┼────┼────┼────■────┼────■───░─┤3     ├──┼────┼────┼────┼────┼──»\n",
       "«           │    │    │    │    │    │   ░ └──────┘┌─┴─┐┌─┴─┐  │    │    │  »\n",
       "«    c_0: ──┼────┼────┼────┼────┼────┼───░─────────┤ X ├┤ X ├──┼────┼────┼──»\n",
       "«         ┌─┴─┐┌─┴─┐  │    │    │    │   ░         └───┘└───┘┌─┴─┐┌─┴─┐  │  »\n",
       "«    c_1: ┤ X ├┤ X ├──┼────┼────┼────┼───░───────────────────┤ X ├┤ X ├──┼──»\n",
       "«         └───┘└───┘┌─┴─┐┌─┴─┐  │    │   ░                   └───┘└───┘┌─┴─┐»\n",
       "«    c_2: ──────────┤ X ├┤ X ├──┼────┼───░─────────────────────────────┤ X ├»\n",
       "«                   └───┘└───┘┌─┴─┐┌─┴─┐ ░                             └───┘»\n",
       "«    c_3: ────────────────────┤ X ├┤ X ├─░──────────────────────────────────»\n",
       "«                             └───┘└───┘ ░                                  »\n",
       "«    out: ───────────────────────────────░──────────────────────────────────»\n",
       "«                                        ░                                  »\n",
       "«cbits: 4/══════════════════════════════════════════════════════════════════»\n",
       "«                                                                           »\n",
       "«                                                                      ░ »\n",
       "«    v_0: ──────────────────────■─────────■────────────────────────────░─»\n",
       "«                               │         │                            ░ »\n",
       "«    v_1: ──────────────────────┼────■────┼─────────■──────────────────░─»\n",
       "«                               │    │    │         │                  ░ »\n",
       "«    v_2: ───────■──────────────┼────┼────┼────■────┼─────────■────────░─»\n",
       "«                │              │    │    │    │    │         │        ░ »\n",
       "«    v_3: ──■────┼────■─────────┼────┼────┼────┼────┼────■────┼────■───░─»\n",
       "«           │    │    │       ┌─┴─┐┌─┴─┐  │    │    │    │    │    │   ░ »\n",
       "«    c_0: ──┼────┼────┼────■──┤ X ├┤ X ├──┼────┼────┼────┼────┼────┼───░─»\n",
       "«           │    │    │    │  └───┘└───┘┌─┴─┐┌─┴─┐  │    │    │    │   ░ »\n",
       "«    c_1: ──┼────┼────┼────■────────────┤ X ├┤ X ├──┼────┼────┼────┼───░─»\n",
       "«         ┌─┴─┐  │    │    │            └───┘└───┘┌─┴─┐┌─┴─┐  │    │   ░ »\n",
       "«    c_2: ┤ X ├──┼────┼────■──────────────────────┤ X ├┤ X ├──┼────┼───░─»\n",
       "«         └───┘┌─┴─┐┌─┴─┐  │                      └───┘└───┘┌─┴─┐┌─┴─┐ ░ »\n",
       "«    c_3: ─────┤ X ├┤ X ├──■────────────────────────────────┤ X ├┤ X ├─░─»\n",
       "«              └───┘└───┘┌─┴─┐                              └───┘└───┘ ░ »\n",
       "«    out: ───────────────┤ X ├─────────────────────────────────────────░─»\n",
       "«                        └───┘                                         ░ »\n",
       "«cbits: 4/═══════════════════════════════════════════════════════════════»\n",
       "«                                                                        »\n",
       "«         ┌──────┐┌─┐         \n",
       "«    v_0: ┤0     ├┤M├─────────\n",
       "«         │      │└╥┘┌─┐      \n",
       "«    v_1: ┤1     ├─╫─┤M├──────\n",
       "«         │  $U$ │ ║ └╥┘┌─┐   \n",
       "«    v_2: ┤2     ├─╫──╫─┤M├───\n",
       "«         │      │ ║  ║ └╥┘┌─┐\n",
       "«    v_3: ┤3     ├─╫──╫──╫─┤M├\n",
       "«         └──────┘ ║  ║  ║ └╥┘\n",
       "«    c_0: ─────────╫──╫──╫──╫─\n",
       "«                  ║  ║  ║  ║ \n",
       "«    c_1: ─────────╫──╫──╫──╫─\n",
       "«                  ║  ║  ║  ║ \n",
       "«    c_2: ─────────╫──╫──╫──╫─\n",
       "«                  ║  ║  ║  ║ \n",
       "«    c_3: ─────────╫──╫──╫──╫─\n",
       "«                  ║  ║  ║  ║ \n",
       "«    out: ─────────╫──╫──╫──╫─\n",
       "«                  ║  ║  ║  ║ \n",
       "«cbits: 4/═════════╩══╩══╩══╩═\n",
       "«                  0  1  2  3 </pre>"
      ],
      "text/plain": [
       "         ┌───┐      ░                                                        »\n",
       "    v_0: ┤ H ├──────░───■─────────■──────────────────────────────────■───────»\n",
       "         ├───┤      ░   │         │                                  │       »\n",
       "    v_1: ┤ H ├──────░───┼────■────┼─────────■────────────────────────┼────■──»\n",
       "         ├───┤      ░   │    │    │         │                        │    │  »\n",
       "    v_2: ┤ H ├──────░───┼────┼────┼────■────┼─────────■──────────────┼────┼──»\n",
       "         ├───┤      ░   │    │    │    │    │         │              │    │  »\n",
       "    v_3: ┤ H ├──────░───┼────┼────┼────┼────┼────■────┼────■─────────┼────┼──»\n",
       "         └───┘      ░ ┌─┴─┐┌─┴─┐  │    │    │    │    │    │       ┌─┴─┐┌─┴─┐»\n",
       "    c_0: ───────────░─┤ X ├┤ X ├──┼────┼────┼────┼────┼────┼────■──┤ X ├┤ X ├»\n",
       "                    ░ └───┘└───┘┌─┴─┐┌─┴─┐  │    │    │    │    │  └───┘└───┘»\n",
       "    c_1: ───────────░───────────┤ X ├┤ X ├──┼────┼────┼────┼────■────────────»\n",
       "                    ░           └───┘└───┘┌─┴─┐┌─┴─┐  │    │    │            »\n",
       "    c_2: ───────────░─────────────────────┤ X ├┤ X ├──┼────┼────■────────────»\n",
       "                    ░                     └───┘└───┘┌─┴─┐┌─┴─┐  │            »\n",
       "    c_3: ───────────░───────────────────────────────┤ X ├┤ X ├──■────────────»\n",
       "         ┌───┐┌───┐ ░                               └───┘└───┘┌─┴─┐          »\n",
       "    out: ┤ X ├┤ H ├─░─────────────────────────────────────────┤ X ├──────────»\n",
       "         └───┘└───┘ ░                                         └───┘          »\n",
       "cbits: 4/════════════════════════════════════════════════════════════════════»\n",
       "                                                                             »\n",
       "«                                        ░ ┌──────┐                         »\n",
       "«    v_0: ──■────────────────────────────░─┤0     ├──■─────────■────────────»\n",
       "«           │                            ░ │      │  │         │            »\n",
       "«    v_1: ──┼─────────■──────────────────░─┤1     ├──┼────■────┼─────────■──»\n",
       "«           │         │                  ░ │  $U$ │  │    │    │         │  »\n",
       "«    v_2: ──┼────■────┼─────────■────────░─┤2     ├──┼────┼────┼────■────┼──»\n",
       "«           │    │    │         │        ░ │      │  │    │    │    │    │  »\n",
       "«    v_3: ──┼────┼────┼────■────┼────■───░─┤3     ├──┼────┼────┼────┼────┼──»\n",
       "«           │    │    │    │    │    │   ░ └──────┘┌─┴─┐┌─┴─┐  │    │    │  »\n",
       "«    c_0: ──┼────┼────┼────┼────┼────┼───░─────────┤ X ├┤ X ├──┼────┼────┼──»\n",
       "«         ┌─┴─┐┌─┴─┐  │    │    │    │   ░         └───┘└───┘┌─┴─┐┌─┴─┐  │  »\n",
       "«    c_1: ┤ X ├┤ X ├──┼────┼────┼────┼───░───────────────────┤ X ├┤ X ├──┼──»\n",
       "«         └───┘└───┘┌─┴─┐┌─┴─┐  │    │   ░                   └───┘└───┘┌─┴─┐»\n",
       "«    c_2: ──────────┤ X ├┤ X ├──┼────┼───░─────────────────────────────┤ X ├»\n",
       "«                   └───┘└───┘┌─┴─┐┌─┴─┐ ░                             └───┘»\n",
       "«    c_3: ────────────────────┤ X ├┤ X ├─░──────────────────────────────────»\n",
       "«                             └───┘└───┘ ░                                  »\n",
       "«    out: ───────────────────────────────░──────────────────────────────────»\n",
       "«                                        ░                                  »\n",
       "«cbits: 4/══════════════════════════════════════════════════════════════════»\n",
       "«                                                                           »\n",
       "«                                                                      ░ »\n",
       "«    v_0: ──────────────────────■─────────■────────────────────────────░─»\n",
       "«                               │         │                            ░ »\n",
       "«    v_1: ──────────────────────┼────■────┼─────────■──────────────────░─»\n",
       "«                               │    │    │         │                  ░ »\n",
       "«    v_2: ───────■──────────────┼────┼────┼────■────┼─────────■────────░─»\n",
       "«                │              │    │    │    │    │         │        ░ »\n",
       "«    v_3: ──■────┼────■─────────┼────┼────┼────┼────┼────■────┼────■───░─»\n",
       "«           │    │    │       ┌─┴─┐┌─┴─┐  │    │    │    │    │    │   ░ »\n",
       "«    c_0: ──┼────┼────┼────■──┤ X ├┤ X ├──┼────┼────┼────┼────┼────┼───░─»\n",
       "«           │    │    │    │  └───┘└───┘┌─┴─┐┌─┴─┐  │    │    │    │   ░ »\n",
       "«    c_1: ──┼────┼────┼────■────────────┤ X ├┤ X ├──┼────┼────┼────┼───░─»\n",
       "«         ┌─┴─┐  │    │    │            └───┘└───┘┌─┴─┐┌─┴─┐  │    │   ░ »\n",
       "«    c_2: ┤ X ├──┼────┼────■──────────────────────┤ X ├┤ X ├──┼────┼───░─»\n",
       "«         └───┘┌─┴─┐┌─┴─┐  │                      └───┘└───┘┌─┴─┐┌─┴─┐ ░ »\n",
       "«    c_3: ─────┤ X ├┤ X ├──■────────────────────────────────┤ X ├┤ X ├─░─»\n",
       "«              └───┘└───┘┌─┴─┐                              └───┘└───┘ ░ »\n",
       "«    out: ───────────────┤ X ├─────────────────────────────────────────░─»\n",
       "«                        └───┘                                         ░ »\n",
       "«cbits: 4/═══════════════════════════════════════════════════════════════»\n",
       "«                                                                        »\n",
       "«         ┌──────┐┌─┐         \n",
       "«    v_0: ┤0     ├┤M├─────────\n",
       "«         │      │└╥┘┌─┐      \n",
       "«    v_1: ┤1     ├─╫─┤M├──────\n",
       "«         │  $U$ │ ║ └╥┘┌─┐   \n",
       "«    v_2: ┤2     ├─╫──╫─┤M├───\n",
       "«         │      │ ║  ║ └╥┘┌─┐\n",
       "«    v_3: ┤3     ├─╫──╫──╫─┤M├\n",
       "«         └──────┘ ║  ║  ║ └╥┘\n",
       "«    c_0: ─────────╫──╫──╫──╫─\n",
       "«                  ║  ║  ║  ║ \n",
       "«    c_1: ─────────╫──╫──╫──╫─\n",
       "«                  ║  ║  ║  ║ \n",
       "«    c_2: ─────────╫──╫──╫──╫─\n",
       "«                  ║  ║  ║  ║ \n",
       "«    c_3: ─────────╫──╫──╫──╫─\n",
       "«                  ║  ║  ║  ║ \n",
       "«    out: ─────────╫──╫──╫──╫─\n",
       "«                  ║  ║  ║  ║ \n",
       "«cbits: 4/═════════╩══╩══╩══╩═\n",
       "«                  0  1  2  3 "
      ]
     },
     "execution_count": 18,
     "metadata": {},
     "output_type": "execute_result"
    }
   ],
   "source": [
    "var_qubits = QuantumRegister(4, name='v')\n",
    "clause_qubits = QuantumRegister(4, name='c')\n",
    "output_qubit = QuantumRegister(1, name='out')\n",
    "cbits = ClassicalRegister(4, name='cbits')\n",
    "\n",
    "qc = QuantumCircuit(var_qubits, clause_qubits, output_qubit, cbits)\n",
    "\n",
    "# Initialise 'out0' in state |->⟩\n",
    "qc.x( output_qubit)\n",
    "qc.h( output_qubit)\n",
    "# qc.initialize([1, -1] / np.sqrt(2), output_qubit)\n",
    "# Initialise qubits in state |s⟩\n",
    "qc.h(var_qubits)\n",
    "qc.barrier()  # for visual separation\n",
    "\n",
    "## Iteration depending on k\n",
    "# Apply our oracle\n",
    "for i in range(k):\n",
    "    sudoku_oracle(qc, clause_list, var_qubits, clause_qubits, output_qubit)\n",
    "    qc.barrier()  # for visual separation\n",
    "    # Apply our diffuser\n",
    "    qc.append(diffuser(4), [0, 1, 2, 3])\n",
    "\n",
    "\n",
    "\n",
    "# Measure the variable qubits\n",
    "qc.measure(var_qubits, cbits)\n",
    "\n",
    "qc.draw()\n"
   ]
  },
  {
   "cell_type": "code",
   "execution_count": 19,
   "metadata": {},
   "outputs": [
    {
     "data": {
      "text/plain": [
       "{'1110': 2,\n",
       " '1011': 2,\n",
       " '0011': 1,\n",
       " '0001': 2,\n",
       " '1111': 8,\n",
       " '1101': 3,\n",
       " '0010': 5,\n",
       " '0000': 2,\n",
       " '1000': 8,\n",
       " '1010': 4,\n",
       " '0111': 6,\n",
       " '1001': 479,\n",
       " '0101': 4,\n",
       " '1100': 4,\n",
       " '0100': 11,\n",
       " '0110': 483}"
      ]
     },
     "execution_count": 19,
     "metadata": {},
     "output_type": "execute_result"
    }
   ],
   "source": [
    "from qiskit_aer import AerSimulator\n",
    "backend = AerSimulator()\n",
    "\n",
    "qc_transpiled = transpile(qc, backend, optimization_level=1)\n",
    "\n",
    "\n",
    "\n",
    "# Execute the transpiled circuit on the real quantum device\n",
    "job = backend.run(qc_transpiled, shots=1024)\n",
    "\n",
    "\n",
    "result = job.result()\n",
    "counts = result.get_counts()\n",
    "counts"
   ]
  },
  {
   "cell_type": "code",
   "execution_count": 20,
   "metadata": {},
   "outputs": [
    {
     "data": {
      "image/png": "[encoded data removed]",
      "text/plain": [
       "<Figure size 640x480 with 1 Axes>"
      ]
     },
     "execution_count": 20,
     "metadata": {},
     "output_type": "execute_result"
    }
   ],
   "source": [
    "# Plot the histogram of counts\n",
    "plot_histogram(counts)\n"
   ]
  }
 ],
 "metadata": {
  "kernelspec": {
   "display_name": "cwq",
   "language": "python",
   "name": "python3"
  },
  "language_info": {
   "codemirror_mode": {
    "name": "ipython",
    "version": 3
   },
   "file_extension": ".py",
   "mimetype": "text/x-python",
   "name": "python",
   "nbconvert_exporter": "python",
   "pygments_lexer": "ipython3",
   "version": "3.12.7"
  }
 },
 "nbformat": 4,
 "nbformat_minor": 2
}
